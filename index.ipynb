{
 "cells": [
  {
   "cell_type": "markdown",
   "id": "enabling-stationery",
   "metadata": {},
   "source": [
    "# Some basics regarding Python and Jupyter"
   ]
  },
  {
   "cell_type": "markdown",
   "id": "brilliant-brook",
   "metadata": {},
   "source": [
    "For a similar, but more extensive tour see:\n",
    "https://github.com/jakevdp/WhirlwindTourOfPython"
   ]
  },
  {
   "cell_type": "markdown",
   "id": "artificial-burns",
   "metadata": {},
   "source": [
    "## Jupyter Evaluation and Kernel State"
   ]
  },
  {
   "cell_type": "code",
   "execution_count": 2,
   "id": "italian-breakdown",
   "metadata": {},
   "outputs": [],
   "source": [
    "x = 7"
   ]
  },
  {
   "cell_type": "code",
   "execution_count": 3,
   "id": "universal-transition",
   "metadata": {},
   "outputs": [
    {
     "data": {
      "text/plain": [
       "7"
      ]
     },
     "execution_count": 3,
     "metadata": {},
     "output_type": "execute_result"
    }
   ],
   "source": [
    "x"
   ]
  },
  {
   "cell_type": "code",
   "execution_count": 4,
   "id": "fitted-divorce",
   "metadata": {},
   "outputs": [
    {
     "ename": "NameError",
     "evalue": "name 'y' is not defined",
     "output_type": "error",
     "traceback": [
      "\u001b[0;31m---------------------------------------------------------------------------\u001b[0m",
      "\u001b[0;31mNameError\u001b[0m                                 Traceback (most recent call last)",
      "\u001b[0;32m<ipython-input-4-9063a9f0e032>\u001b[0m in \u001b[0;36m<module>\u001b[0;34m\u001b[0m\n\u001b[0;32m----> 1\u001b[0;31m \u001b[0my\u001b[0m\u001b[0;34m\u001b[0m\u001b[0;34m\u001b[0m\u001b[0m\n\u001b[0m",
      "\u001b[0;31mNameError\u001b[0m: name 'y' is not defined"
     ]
    }
   ],
   "source": [
    "y"
   ]
  },
  {
   "cell_type": "code",
   "execution_count": 5,
   "id": "known-daisy",
   "metadata": {},
   "outputs": [],
   "source": [
    "y = 10"
   ]
  },
  {
   "cell_type": "code",
   "execution_count": 6,
   "id": "periodic-monster",
   "metadata": {},
   "outputs": [
    {
     "data": {
      "text/plain": [
       "10"
      ]
     },
     "execution_count": 6,
     "metadata": {},
     "output_type": "execute_result"
    }
   ],
   "source": [
    "y"
   ]
  },
  {
   "cell_type": "code",
   "execution_count": 10,
   "id": "operating-stage",
   "metadata": {},
   "outputs": [
    {
     "data": {
      "text/plain": [
       "30"
      ]
     },
     "execution_count": 10,
     "metadata": {},
     "output_type": "execute_result"
    }
   ],
   "source": [
    "y * 3"
   ]
  },
  {
   "cell_type": "markdown",
   "id": "universal-jackson",
   "metadata": {},
   "source": [
    "now try to restart your kernel!"
   ]
  },
  {
   "cell_type": "markdown",
   "id": "gentle-intervention",
   "metadata": {},
   "source": [
    "more on this topic: https://realpython.com/jupyter-notebook-introduction/"
   ]
  },
  {
   "cell_type": "markdown",
   "id": "palestinian-victoria",
   "metadata": {},
   "source": [
    "## Types"
   ]
  },
  {
   "cell_type": "code",
   "execution_count": 29,
   "id": "organizational-interface",
   "metadata": {},
   "outputs": [
    {
     "data": {
      "text/plain": [
       "3"
      ]
     },
     "execution_count": 29,
     "metadata": {},
     "output_type": "execute_result"
    }
   ],
   "source": [
    "1 + 2"
   ]
  },
  {
   "cell_type": "code",
   "execution_count": 42,
   "id": "dutch-freeze",
   "metadata": {},
   "outputs": [
    {
     "data": {
      "text/plain": [
       "3.3333333333333335"
      ]
     },
     "execution_count": 42,
     "metadata": {},
     "output_type": "execute_result"
    }
   ],
   "source": [
    "10 / 3"
   ]
  },
  {
   "cell_type": "code",
   "execution_count": 43,
   "id": "reflected-floating",
   "metadata": {},
   "outputs": [
    {
     "data": {
      "text/plain": [
       "int"
      ]
     },
     "execution_count": 43,
     "metadata": {},
     "output_type": "execute_result"
    }
   ],
   "source": [
    "type(1 + 2)"
   ]
  },
  {
   "cell_type": "code",
   "execution_count": 44,
   "id": "limiting-combat",
   "metadata": {},
   "outputs": [
    {
     "data": {
      "text/plain": [
       "float"
      ]
     },
     "execution_count": 44,
     "metadata": {},
     "output_type": "execute_result"
    }
   ],
   "source": [
    "type(10 / 3)"
   ]
  },
  {
   "cell_type": "code",
   "execution_count": 127,
   "id": "announced-adult",
   "metadata": {},
   "outputs": [
    {
     "data": {
      "text/plain": [
       "str"
      ]
     },
     "execution_count": 127,
     "metadata": {},
     "output_type": "execute_result"
    }
   ],
   "source": [
    "type('hello')"
   ]
  },
  {
   "cell_type": "code",
   "execution_count": 128,
   "id": "modern-christian",
   "metadata": {},
   "outputs": [
    {
     "data": {
      "text/plain": [
       "True"
      ]
     },
     "execution_count": 128,
     "metadata": {},
     "output_type": "execute_result"
    }
   ],
   "source": [
    "\"hello\" == 'hello'"
   ]
  },
  {
   "cell_type": "markdown",
   "id": "colonial-coordinate",
   "metadata": {},
   "source": [
    "more on this topic: https://realpython.com/python-data-types/"
   ]
  },
  {
   "cell_type": "markdown",
   "id": "interracial-aquatic",
   "metadata": {},
   "source": [
    "## Containers and Data Structures"
   ]
  },
  {
   "cell_type": "code",
   "execution_count": 1,
   "id": "useful-jimmy",
   "metadata": {},
   "outputs": [],
   "source": [
    "# this is a comment"
   ]
  },
  {
   "cell_type": "markdown",
   "id": "restricted-services",
   "metadata": {},
   "source": [
    "### Lists and Loops"
   ]
  },
  {
   "cell_type": "code",
   "execution_count": 33,
   "id": "charming-dispatch",
   "metadata": {},
   "outputs": [
    {
     "data": {
      "text/plain": [
       "[0, 1, 4, 9, 16, 25, 36, 49, 64, 81]"
      ]
     },
     "execution_count": 33,
     "metadata": {},
     "output_type": "execute_result"
    }
   ],
   "source": [
    "squares = []\n",
    "for i in range(10):\n",
    "    squares.append(i ** 2)\n",
    "squares"
   ]
  },
  {
   "cell_type": "code",
   "execution_count": 54,
   "id": "apart-error",
   "metadata": {},
   "outputs": [
    {
     "data": {
      "text/plain": [
       "\u001b[0;31mSignature:\u001b[0m \u001b[0msquares\u001b[0m\u001b[0;34m.\u001b[0m\u001b[0mappend\u001b[0m\u001b[0;34m(\u001b[0m\u001b[0mobject\u001b[0m\u001b[0;34m,\u001b[0m \u001b[0;34m/\u001b[0m\u001b[0;34m)\u001b[0m\u001b[0;34m\u001b[0m\u001b[0;34m\u001b[0m\u001b[0m\n",
       "\u001b[0;31mDocstring:\u001b[0m Append object to the end of the list.\n",
       "\u001b[0;31mType:\u001b[0m      builtin_function_or_method\n"
      ]
     },
     "metadata": {},
     "output_type": "display_data"
    }
   ],
   "source": [
    "?squares.append"
   ]
  },
  {
   "cell_type": "code",
   "execution_count": 21,
   "id": "invalid-spider",
   "metadata": {},
   "outputs": [
    {
     "data": {
      "text/plain": [
       "10"
      ]
     },
     "execution_count": 21,
     "metadata": {},
     "output_type": "execute_result"
    }
   ],
   "source": [
    "len(squares)"
   ]
  },
  {
   "cell_type": "code",
   "execution_count": 23,
   "id": "twenty-remove",
   "metadata": {},
   "outputs": [
    {
     "data": {
      "text/plain": [
       "4"
      ]
     },
     "execution_count": 23,
     "metadata": {},
     "output_type": "execute_result"
    }
   ],
   "source": [
    "squares[2]"
   ]
  },
  {
   "cell_type": "code",
   "execution_count": 24,
   "id": "bizarre-imagination",
   "metadata": {},
   "outputs": [
    {
     "data": {
      "text/plain": [
       "[4, 9, 16]"
      ]
     },
     "execution_count": 24,
     "metadata": {},
     "output_type": "execute_result"
    }
   ],
   "source": [
    "squares[2:5]"
   ]
  },
  {
   "cell_type": "code",
   "execution_count": 77,
   "id": "technical-douglas",
   "metadata": {},
   "outputs": [
    {
     "data": {
      "text/plain": [
       "True"
      ]
     },
     "execution_count": 77,
     "metadata": {},
     "output_type": "execute_result"
    }
   ],
   "source": [
    "25 in squares"
   ]
  },
  {
   "cell_type": "code",
   "execution_count": 78,
   "id": "dental-runner",
   "metadata": {},
   "outputs": [
    {
     "data": {
      "text/plain": [
       "False"
      ]
     },
     "execution_count": 78,
     "metadata": {},
     "output_type": "execute_result"
    }
   ],
   "source": [
    "30 in squares"
   ]
  },
  {
   "cell_type": "markdown",
   "id": "absent-french",
   "metadata": {},
   "source": [
    "### List Comprehensions"
   ]
  },
  {
   "cell_type": "code",
   "execution_count": 34,
   "id": "dutch-selling",
   "metadata": {},
   "outputs": [
    {
     "data": {
      "text/plain": [
       "[0, 1, 4, 9, 16, 25, 36, 49, 64, 81]"
      ]
     },
     "execution_count": 34,
     "metadata": {},
     "output_type": "execute_result"
    }
   ],
   "source": [
    "[i ** 2 for i in range(10)]"
   ]
  },
  {
   "cell_type": "markdown",
   "id": "mexican-wholesale",
   "metadata": {},
   "source": [
    "### Mutability and Type Safety"
   ]
  },
  {
   "cell_type": "code",
   "execution_count": 49,
   "id": "committed-small",
   "metadata": {},
   "outputs": [],
   "source": [
    "squares[1] = 'what?'"
   ]
  },
  {
   "cell_type": "code",
   "execution_count": 16,
   "id": "coral-restriction",
   "metadata": {},
   "outputs": [
    {
     "data": {
      "text/plain": [
       "[0, 'what?', 4, 9, 16, 25, 36, 49, 64, 81]"
      ]
     },
     "execution_count": 16,
     "metadata": {},
     "output_type": "execute_result"
    }
   ],
   "source": [
    "squares"
   ]
  },
  {
   "cell_type": "markdown",
   "id": "alpha-therapist",
   "metadata": {},
   "source": [
    "### Lists in the Python API"
   ]
  },
  {
   "cell_type": "code",
   "execution_count": 129,
   "id": "accompanied-flavor",
   "metadata": {},
   "outputs": [],
   "source": [
    "x = 'an example'"
   ]
  },
  {
   "cell_type": "code",
   "execution_count": 130,
   "id": "public-regular",
   "metadata": {},
   "outputs": [
    {
     "data": {
      "text/plain": [
       "['an', 'example']"
      ]
     },
     "execution_count": 130,
     "metadata": {},
     "output_type": "execute_result"
    }
   ],
   "source": [
    "x.split()"
   ]
  },
  {
   "cell_type": "code",
   "execution_count": 131,
   "id": "brilliant-berkeley",
   "metadata": {},
   "outputs": [
    {
     "data": {
      "text/plain": [
       "\u001b[0;31mSignature:\u001b[0m \u001b[0mx\u001b[0m\u001b[0;34m.\u001b[0m\u001b[0msplit\u001b[0m\u001b[0;34m(\u001b[0m\u001b[0msep\u001b[0m\u001b[0;34m=\u001b[0m\u001b[0;32mNone\u001b[0m\u001b[0;34m,\u001b[0m \u001b[0mmaxsplit\u001b[0m\u001b[0;34m=\u001b[0m\u001b[0;34m-\u001b[0m\u001b[0;36m1\u001b[0m\u001b[0;34m)\u001b[0m\u001b[0;34m\u001b[0m\u001b[0;34m\u001b[0m\u001b[0m\n",
       "\u001b[0;31mDocstring:\u001b[0m\n",
       "Return a list of the words in the string, using sep as the delimiter string.\n",
       "\n",
       "sep\n",
       "  The delimiter according which to split the string.\n",
       "  None (the default value) means split according to any whitespace,\n",
       "  and discard empty strings from the result.\n",
       "maxsplit\n",
       "  Maximum number of splits to do.\n",
       "  -1 (the default value) means no limit.\n",
       "\u001b[0;31mType:\u001b[0m      builtin_function_or_method\n"
      ]
     },
     "metadata": {},
     "output_type": "display_data"
    }
   ],
   "source": [
    "?x.split"
   ]
  },
  {
   "cell_type": "code",
   "execution_count": 133,
   "id": "coastal-essay",
   "metadata": {},
   "outputs": [
    {
     "name": "stdout",
     "output_type": "stream",
     "text": [
      "Object `'an example'.split` not found.\n"
     ]
    }
   ],
   "source": [
    "?'an example'.split"
   ]
  },
  {
   "cell_type": "code",
   "execution_count": 94,
   "id": "authorized-favor",
   "metadata": {},
   "outputs": [
    {
     "data": {
      "text/plain": [
       "['__add__',\n",
       " '__class__',\n",
       " '__contains__',\n",
       " '__delattr__',\n",
       " '__dir__',\n",
       " '__doc__',\n",
       " '__eq__',\n",
       " '__format__',\n",
       " '__ge__',\n",
       " '__getattribute__',\n",
       " '__getitem__',\n",
       " '__getnewargs__',\n",
       " '__gt__',\n",
       " '__hash__',\n",
       " '__init__',\n",
       " '__init_subclass__',\n",
       " '__iter__',\n",
       " '__le__',\n",
       " '__len__',\n",
       " '__lt__',\n",
       " '__mod__',\n",
       " '__mul__',\n",
       " '__ne__',\n",
       " '__new__',\n",
       " '__reduce__',\n",
       " '__reduce_ex__',\n",
       " '__repr__',\n",
       " '__rmod__',\n",
       " '__rmul__',\n",
       " '__setattr__',\n",
       " '__sizeof__',\n",
       " '__str__',\n",
       " '__subclasshook__',\n",
       " 'capitalize',\n",
       " 'casefold',\n",
       " 'center',\n",
       " 'count',\n",
       " 'encode',\n",
       " 'endswith',\n",
       " 'expandtabs',\n",
       " 'find',\n",
       " 'format',\n",
       " 'format_map',\n",
       " 'index',\n",
       " 'isalnum',\n",
       " 'isalpha',\n",
       " 'isascii',\n",
       " 'isdecimal',\n",
       " 'isdigit',\n",
       " 'isidentifier',\n",
       " 'islower',\n",
       " 'isnumeric',\n",
       " 'isprintable',\n",
       " 'isspace',\n",
       " 'istitle',\n",
       " 'isupper',\n",
       " 'join',\n",
       " 'ljust',\n",
       " 'lower',\n",
       " 'lstrip',\n",
       " 'maketrans',\n",
       " 'partition',\n",
       " 'replace',\n",
       " 'rfind',\n",
       " 'rindex',\n",
       " 'rjust',\n",
       " 'rpartition',\n",
       " 'rsplit',\n",
       " 'rstrip',\n",
       " 'split',\n",
       " 'splitlines',\n",
       " 'startswith',\n",
       " 'strip',\n",
       " 'swapcase',\n",
       " 'title',\n",
       " 'translate',\n",
       " 'upper',\n",
       " 'zfill']"
      ]
     },
     "execution_count": 94,
     "metadata": {},
     "output_type": "execute_result"
    }
   ],
   "source": [
    "dir(x)"
   ]
  },
  {
   "cell_type": "code",
   "execution_count": 134,
   "id": "transparent-minute",
   "metadata": {},
   "outputs": [
    {
     "data": {
      "text/plain": [
       "[['this', 'morning'], ['and', 'yesterday', 'evening']]"
      ]
     },
     "execution_count": 134,
     "metadata": {},
     "output_type": "execute_result"
    }
   ],
   "source": [
    "[x.split() for x in 'this morning, and yesterday evening'.split(',')]"
   ]
  },
  {
   "cell_type": "markdown",
   "id": "adjustable-architecture",
   "metadata": {},
   "source": [
    "### Tuples"
   ]
  },
  {
   "cell_type": "code",
   "execution_count": 219,
   "id": "professional-belarus",
   "metadata": {},
   "outputs": [],
   "source": [
    "greek_alphabet = ('alpha', 'beta', 'gamma')"
   ]
  },
  {
   "cell_type": "code",
   "execution_count": 136,
   "id": "secret-combine",
   "metadata": {},
   "outputs": [
    {
     "data": {
      "text/plain": [
       "'beta'"
      ]
     },
     "execution_count": 136,
     "metadata": {},
     "output_type": "execute_result"
    }
   ],
   "source": [
    "greek_alphabet[1]"
   ]
  },
  {
   "cell_type": "code",
   "execution_count": 137,
   "id": "mediterranean-macro",
   "metadata": {},
   "outputs": [
    {
     "ename": "TypeError",
     "evalue": "'tuple' object does not support item assignment",
     "output_type": "error",
     "traceback": [
      "\u001b[0;31m---------------------------------------------------------------------------\u001b[0m",
      "\u001b[0;31mTypeError\u001b[0m                                 Traceback (most recent call last)",
      "\u001b[0;32m<ipython-input-137-3b5f2ecda26d>\u001b[0m in \u001b[0;36m<module>\u001b[0;34m\u001b[0m\n\u001b[0;32m----> 1\u001b[0;31m \u001b[0mgreek_alphabet\u001b[0m\u001b[0;34m[\u001b[0m\u001b[0;36m1\u001b[0m\u001b[0;34m]\u001b[0m \u001b[0;34m=\u001b[0m \u001b[0;34m'rho'\u001b[0m\u001b[0;34m\u001b[0m\u001b[0;34m\u001b[0m\u001b[0m\n\u001b[0m",
      "\u001b[0;31mTypeError\u001b[0m: 'tuple' object does not support item assignment"
     ]
    }
   ],
   "source": [
    "greek_alphabet[1] = 'rho'"
   ]
  },
  {
   "cell_type": "markdown",
   "id": "excessive-enlargement",
   "metadata": {},
   "source": [
    "### Dicts"
   ]
  },
  {
   "cell_type": "code",
   "execution_count": 2,
   "id": "another-clark",
   "metadata": {},
   "outputs": [
    {
     "data": {
      "text/plain": [
       "'m'"
      ]
     },
     "execution_count": 2,
     "metadata": {},
     "output_type": "execute_result"
    }
   ],
   "source": [
    "name_gender = {\n",
    "    'Robert': 'm',\n",
    "    'Jennifer': 'f',\n",
    "    'John': 'm',\n",
    "    'Patricia': 'f'\n",
    "}\n",
    "\n",
    "# alternative Syntax:\n",
    "# name_gender = dict(Robert='m', Jennifer='f')\n",
    "\n",
    "name_gender['John']"
   ]
  },
  {
   "cell_type": "code",
   "execution_count": 3,
   "id": "olive-accessory",
   "metadata": {},
   "outputs": [
    {
     "ename": "KeyError",
     "evalue": "'Richard'",
     "output_type": "error",
     "traceback": [
      "\u001b[0;31m---------------------------------------------------------------------------\u001b[0m",
      "\u001b[0;31mKeyError\u001b[0m                                  Traceback (most recent call last)",
      "\u001b[0;32m<ipython-input-3-cd35af0402f1>\u001b[0m in \u001b[0;36m<module>\u001b[0;34m\u001b[0m\n\u001b[0;32m----> 1\u001b[0;31m \u001b[0mname_gender\u001b[0m\u001b[0;34m[\u001b[0m\u001b[0;34m'Richard'\u001b[0m\u001b[0;34m]\u001b[0m\u001b[0;34m\u001b[0m\u001b[0;34m\u001b[0m\u001b[0m\n\u001b[0m",
      "\u001b[0;31mKeyError\u001b[0m: 'Richard'"
     ]
    }
   ],
   "source": [
    "name_gender['Richard']"
   ]
  },
  {
   "cell_type": "code",
   "execution_count": 38,
   "id": "dated-trout",
   "metadata": {},
   "outputs": [],
   "source": [
    "name_gender['Richard'] = 'm'"
   ]
  },
  {
   "cell_type": "code",
   "execution_count": 39,
   "id": "reserved-dream",
   "metadata": {},
   "outputs": [
    {
     "data": {
      "text/plain": [
       "'m'"
      ]
     },
     "execution_count": 39,
     "metadata": {},
     "output_type": "execute_result"
    }
   ],
   "source": [
    "name_gender['Richard']"
   ]
  },
  {
   "cell_type": "markdown",
   "id": "acquired-compact",
   "metadata": {},
   "source": [
    "### Sets"
   ]
  },
  {
   "cell_type": "code",
   "execution_count": 5,
   "id": "animated-helmet",
   "metadata": {},
   "outputs": [
    {
     "data": {
      "text/plain": [
       "True"
      ]
     },
     "execution_count": 5,
     "metadata": {},
     "output_type": "execute_result"
    }
   ],
   "source": [
    "countries = {'Denmark', 'Kongo', 'Peru'}\n",
    "\n",
    "# alternative Syntax:\n",
    "# countries = set('Denmark', 'Kongo', 'Peru')\n",
    "\n",
    "'Peru' in countries"
   ]
  },
  {
   "cell_type": "code",
   "execution_count": 6,
   "id": "medieval-authorization",
   "metadata": {},
   "outputs": [
    {
     "data": {
      "text/plain": [
       "False"
      ]
     },
     "execution_count": 6,
     "metadata": {},
     "output_type": "execute_result"
    }
   ],
   "source": [
    "'Dublin' in countries"
   ]
  },
  {
   "cell_type": "code",
   "execution_count": 7,
   "id": "exceptional-transmission",
   "metadata": {},
   "outputs": [
    {
     "data": {
      "text/plain": [
       "\u001b[0;31mDocstring:\u001b[0m\n",
       "Add an element to a set.\n",
       "\n",
       "This has no effect if the element is already present.\n",
       "\u001b[0;31mType:\u001b[0m      method_descriptor\n"
      ]
     },
     "metadata": {},
     "output_type": "display_data"
    }
   ],
   "source": [
    "?set.add"
   ]
  },
  {
   "cell_type": "code",
   "execution_count": 74,
   "id": "single-military",
   "metadata": {},
   "outputs": [],
   "source": [
    "countries.add('Canada')"
   ]
  },
  {
   "cell_type": "markdown",
   "id": "common-prescription",
   "metadata": {},
   "source": [
    "countries"
   ]
  },
  {
   "cell_type": "code",
   "execution_count": 76,
   "id": "religious-chinese",
   "metadata": {},
   "outputs": [
    {
     "data": {
      "text/plain": [
       "['Kongo', 'Peru', 'Denmark', 'Canada']"
      ]
     },
     "execution_count": 76,
     "metadata": {},
     "output_type": "execute_result"
    }
   ],
   "source": [
    "list(countries)"
   ]
  },
  {
   "cell_type": "code",
   "execution_count": 79,
   "id": "explicit-vertical",
   "metadata": {},
   "outputs": [
    {
     "data": {
      "text/plain": [
       "{0, 16, 25, 36, 4, 49, 64, 81, 9, 'what?'}"
      ]
     },
     "execution_count": 79,
     "metadata": {},
     "output_type": "execute_result"
    }
   ],
   "source": [
    "set(squares)"
   ]
  },
  {
   "cell_type": "markdown",
   "id": "descending-power",
   "metadata": {},
   "source": [
    "more on this topic: https://realpython.com/python-data-structures/"
   ]
  },
  {
   "cell_type": "markdown",
   "id": "involved-guarantee",
   "metadata": {},
   "source": [
    "# String Formatting and Interpolation"
   ]
  },
  {
   "cell_type": "code",
   "execution_count": 204,
   "id": "twelve-sailing",
   "metadata": {},
   "outputs": [
    {
     "data": {
      "text/plain": [
       "'an apple'"
      ]
     },
     "execution_count": 204,
     "metadata": {},
     "output_type": "execute_result"
    }
   ],
   "source": [
    "'an' + ' ' + 'apple'"
   ]
  },
  {
   "cell_type": "code",
   "execution_count": 205,
   "id": "silver-spotlight",
   "metadata": {},
   "outputs": [
    {
     "data": {
      "text/plain": [
       "'an apple'"
      ]
     },
     "execution_count": 205,
     "metadata": {},
     "output_type": "execute_result"
    }
   ],
   "source": [
    "' '.join(['an', 'apple'])"
   ]
  },
  {
   "cell_type": "code",
   "execution_count": 209,
   "id": "pending-seafood",
   "metadata": {},
   "outputs": [],
   "source": [
    "some_year = 2525"
   ]
  },
  {
   "cell_type": "code",
   "execution_count": 214,
   "id": "delayed-update",
   "metadata": {},
   "outputs": [
    {
     "ename": "TypeError",
     "evalue": "can only concatenate str (not \"int\") to str",
     "output_type": "error",
     "traceback": [
      "\u001b[0;31m---------------------------------------------------------------------------\u001b[0m",
      "\u001b[0;31mTypeError\u001b[0m                                 Traceback (most recent call last)",
      "\u001b[0;32m<ipython-input-214-cb7942e5f6b1>\u001b[0m in \u001b[0;36m<module>\u001b[0;34m\u001b[0m\n\u001b[0;32m----> 1\u001b[0;31m \u001b[0;34m'in the year '\u001b[0m \u001b[0;34m+\u001b[0m \u001b[0msome_year\u001b[0m\u001b[0;34m\u001b[0m\u001b[0;34m\u001b[0m\u001b[0m\n\u001b[0m",
      "\u001b[0;31mTypeError\u001b[0m: can only concatenate str (not \"int\") to str"
     ]
    }
   ],
   "source": [
    "'in the year ' + some_year"
   ]
  },
  {
   "cell_type": "code",
   "execution_count": 215,
   "id": "small-remainder",
   "metadata": {},
   "outputs": [
    {
     "data": {
      "text/plain": [
       "'in the year 2525'"
      ]
     },
     "execution_count": 215,
     "metadata": {},
     "output_type": "execute_result"
    }
   ],
   "source": [
    "'in the year ' + str(some_year)"
   ]
  },
  {
   "cell_type": "code",
   "execution_count": 216,
   "id": "composite-works",
   "metadata": {},
   "outputs": [
    {
     "data": {
      "text/plain": [
       "'in the year 2525'"
      ]
     },
     "execution_count": 216,
     "metadata": {},
     "output_type": "execute_result"
    }
   ],
   "source": [
    "'in the year %d' % some_year"
   ]
  },
  {
   "cell_type": "code",
   "execution_count": 217,
   "id": "guilty-breed",
   "metadata": {},
   "outputs": [
    {
     "data": {
      "text/plain": [
       "'in the year 2525'"
      ]
     },
     "execution_count": 217,
     "metadata": {},
     "output_type": "execute_result"
    }
   ],
   "source": [
    "f'in the year {some_year}'"
   ]
  },
  {
   "cell_type": "code",
   "execution_count": 221,
   "id": "terminal-escape",
   "metadata": {},
   "outputs": [
    {
     "data": {
      "text/plain": [
       "'in the 25th century, the BETA corporation was founded.'"
      ]
     },
     "execution_count": 221,
     "metadata": {},
     "output_type": "execute_result"
    }
   ],
   "source": [
    "f'in the {some_year // 100}th century, the {greek_alphabet[1].upper()} corporation was founded.'"
   ]
  },
  {
   "cell_type": "markdown",
   "id": "regional-museum",
   "metadata": {},
   "source": [
    "# Files, Scopes"
   ]
  },
  {
   "cell_type": "code",
   "execution_count": 8,
   "id": "voluntary-luxury",
   "metadata": {},
   "outputs": [],
   "source": [
    "with open('example.txt', 'r') as f:\n",
    "    text = f.read()"
   ]
  },
  {
   "cell_type": "code",
   "execution_count": 9,
   "id": "fixed-compact",
   "metadata": {},
   "outputs": [
    {
     "data": {
      "text/plain": [
       "'Tyger Tyger, burning bright,\\nIn the forests of the night;\\nWhat immortal hand or eye,\\nCould frame thy fearful symmetry?\\n\\n- William Blake\\n'"
      ]
     },
     "execution_count": 9,
     "metadata": {},
     "output_type": "execute_result"
    }
   ],
   "source": [
    "text"
   ]
  },
  {
   "cell_type": "markdown",
   "id": "union-future",
   "metadata": {},
   "source": [
    "more on this topic: https://realpython.com/read-write-files-python/"
   ]
  },
  {
   "cell_type": "markdown",
   "id": "intermediate-heating",
   "metadata": {},
   "source": [
    "# Modules"
   ]
  },
  {
   "cell_type": "markdown",
   "id": "missing-assist",
   "metadata": {},
   "source": [
    "### Imports"
   ]
  },
  {
   "cell_type": "code",
   "execution_count": 80,
   "id": "prescribed-processing",
   "metadata": {},
   "outputs": [
    {
     "ename": "NameError",
     "evalue": "name 're' is not defined",
     "output_type": "error",
     "traceback": [
      "\u001b[0;31m---------------------------------------------------------------------------\u001b[0m",
      "\u001b[0;31mNameError\u001b[0m                                 Traceback (most recent call last)",
      "\u001b[0;32m<ipython-input-80-b80d3ea14515>\u001b[0m in \u001b[0;36m<module>\u001b[0;34m\u001b[0m\n\u001b[0;32m----> 1\u001b[0;31m \u001b[0mre\u001b[0m\u001b[0;34m\u001b[0m\u001b[0;34m\u001b[0m\u001b[0m\n\u001b[0m",
      "\u001b[0;31mNameError\u001b[0m: name 're' is not defined"
     ]
    }
   ],
   "source": [
    "re"
   ]
  },
  {
   "cell_type": "code",
   "execution_count": 11,
   "id": "thrown-paragraph",
   "metadata": {},
   "outputs": [],
   "source": [
    "import re"
   ]
  },
  {
   "cell_type": "code",
   "execution_count": 12,
   "id": "ready-gibson",
   "metadata": {},
   "outputs": [
    {
     "data": {
      "text/plain": [
       "<module 're' from '/opt/miniconda3/envs/nteract/lib/python3.7/re.py'>"
      ]
     },
     "execution_count": 12,
     "metadata": {},
     "output_type": "execute_result"
    }
   ],
   "source": [
    "re"
   ]
  },
  {
   "cell_type": "markdown",
   "id": "authorized-portable",
   "metadata": {},
   "source": [
    "### Using a Module"
   ]
  },
  {
   "cell_type": "code",
   "execution_count": 13,
   "id": "modular-monday",
   "metadata": {},
   "outputs": [
    {
     "data": {
      "text/plain": [
       "<re.Match object; span=(10, 13), match='365'>"
      ]
     },
     "execution_count": 13,
     "metadata": {},
     "output_type": "execute_result"
    }
   ],
   "source": [
    "re.search(r'[0-9]+', 'there are 365 days in a year')"
   ]
  },
  {
   "cell_type": "code",
   "execution_count": 16,
   "id": "conditional-subscription",
   "metadata": {},
   "outputs": [
    {
     "data": {
      "text/plain": [
       "\u001b[0;31mSignature:\u001b[0m \u001b[0mre\u001b[0m\u001b[0;34m.\u001b[0m\u001b[0msearch\u001b[0m\u001b[0;34m(\u001b[0m\u001b[0mpattern\u001b[0m\u001b[0;34m,\u001b[0m \u001b[0mstring\u001b[0m\u001b[0;34m,\u001b[0m \u001b[0mflags\u001b[0m\u001b[0;34m=\u001b[0m\u001b[0;36m0\u001b[0m\u001b[0;34m)\u001b[0m\u001b[0;34m\u001b[0m\u001b[0;34m\u001b[0m\u001b[0m\n",
       "\u001b[0;31mDocstring:\u001b[0m\n",
       "Scan through string looking for a match to the pattern, returning\n",
       "a Match object, or None if no match was found.\n",
       "\u001b[0;31mFile:\u001b[0m      /opt/miniconda3/envs/nteract/lib/python3.7/re.py\n",
       "\u001b[0;31mType:\u001b[0m      function\n"
      ]
     },
     "metadata": {},
     "output_type": "display_data"
    }
   ],
   "source": [
    "?re.search"
   ]
  },
  {
   "cell_type": "code",
   "execution_count": 14,
   "id": "simple-citizenship",
   "metadata": {},
   "outputs": [
    {
     "data": {
      "text/plain": [
       "re.Match"
      ]
     },
     "execution_count": 14,
     "metadata": {},
     "output_type": "execute_result"
    }
   ],
   "source": [
    "m = re.search(r'[0-9]+', 'there are 365 days in a year')\n",
    "type(m)"
   ]
  },
  {
   "cell_type": "code",
   "execution_count": 15,
   "id": "circular-serbia",
   "metadata": {},
   "outputs": [
    {
     "data": {
      "text/plain": [
       "\u001b[0;31mType:\u001b[0m        Match\n",
       "\u001b[0;31mString form:\u001b[0m <re.Match object; span=(10, 13), match='365'>\n",
       "\u001b[0;31mFile:\u001b[0m        /opt/miniconda3/envs/nteract/lib/python3.7/re.py\n",
       "\u001b[0;31mDocstring:\u001b[0m  \n",
       "The result of re.match() and re.search().\n",
       "Match objects always have a boolean value of True.\n"
      ]
     },
     "metadata": {},
     "output_type": "display_data"
    }
   ],
   "source": [
    "?m"
   ]
  },
  {
   "cell_type": "markdown",
   "id": "adverse-debate",
   "metadata": {},
   "source": [
    "### Imports and Local Names"
   ]
  },
  {
   "cell_type": "code",
   "execution_count": 100,
   "id": "virtual-prison",
   "metadata": {},
   "outputs": [],
   "source": [
    "import collections"
   ]
  },
  {
   "cell_type": "code",
   "execution_count": 101,
   "id": "brazilian-pride",
   "metadata": {},
   "outputs": [
    {
     "data": {
      "text/plain": [
       "Counter()"
      ]
     },
     "execution_count": 101,
     "metadata": {},
     "output_type": "execute_result"
    }
   ],
   "source": [
    "x = collections.Counter()\n",
    "x"
   ]
  },
  {
   "cell_type": "code",
   "execution_count": 18,
   "id": "boolean-image",
   "metadata": {},
   "outputs": [],
   "source": [
    "from collections import Counter"
   ]
  },
  {
   "cell_type": "code",
   "execution_count": 19,
   "id": "equivalent-defeat",
   "metadata": {},
   "outputs": [],
   "source": [
    "x = Counter()"
   ]
  },
  {
   "cell_type": "code",
   "execution_count": 20,
   "id": "departmental-invitation",
   "metadata": {},
   "outputs": [
    {
     "data": {
      "text/plain": [
       "\u001b[0;31mInit signature:\u001b[0m \u001b[0mCounter\u001b[0m\u001b[0;34m(\u001b[0m\u001b[0;34m*\u001b[0m\u001b[0margs\u001b[0m\u001b[0;34m,\u001b[0m \u001b[0;34m**\u001b[0m\u001b[0mkwds\u001b[0m\u001b[0;34m)\u001b[0m\u001b[0;34m\u001b[0m\u001b[0;34m\u001b[0m\u001b[0m\n",
       "\u001b[0;31mDocstring:\u001b[0m     \n",
       "Dict subclass for counting hashable items.  Sometimes called a bag\n",
       "or multiset.  Elements are stored as dictionary keys and their counts\n",
       "are stored as dictionary values.\n",
       "\n",
       ">>> c = Counter('abcdeabcdabcaba')  # count elements from a string\n",
       "\n",
       ">>> c.most_common(3)                # three most common elements\n",
       "[('a', 5), ('b', 4), ('c', 3)]\n",
       ">>> sorted(c)                       # list all unique elements\n",
       "['a', 'b', 'c', 'd', 'e']\n",
       ">>> ''.join(sorted(c.elements()))   # list elements with repetitions\n",
       "'aaaaabbbbcccdde'\n",
       ">>> sum(c.values())                 # total of all counts\n",
       "15\n",
       "\n",
       ">>> c['a']                          # count of letter 'a'\n",
       "5\n",
       ">>> for elem in 'shazam':           # update counts from an iterable\n",
       "...     c[elem] += 1                # by adding 1 to each element's count\n",
       ">>> c['a']                          # now there are seven 'a'\n",
       "7\n",
       ">>> del c['b']                      # remove all 'b'\n",
       ">>> c['b']                          # now there are zero 'b'\n",
       "0\n",
       "\n",
       ">>> d = Counter('simsalabim')       # make another counter\n",
       ">>> c.update(d)                     # add in the second counter\n",
       ">>> c['a']                          # now there are nine 'a'\n",
       "9\n",
       "\n",
       ">>> c.clear()                       # empty the counter\n",
       ">>> c\n",
       "Counter()\n",
       "\n",
       "Note:  If a count is set to zero or reduced to zero, it will remain\n",
       "in the counter until the entry is deleted or the counter is cleared:\n",
       "\n",
       ">>> c = Counter('aaabbc')\n",
       ">>> c['b'] -= 2                     # reduce the count of 'b' by two\n",
       ">>> c.most_common()                 # 'b' is still in, but its count is zero\n",
       "[('a', 3), ('c', 1), ('b', 0)]\n",
       "\u001b[0;31mInit docstring:\u001b[0m\n",
       "Create a new, empty Counter object.  And if given, count elements\n",
       "from an input iterable.  Or, initialize the count from another mapping\n",
       "of elements to their counts.\n",
       "\n",
       ">>> c = Counter()                           # a new, empty counter\n",
       ">>> c = Counter('gallahad')                 # a new counter from an iterable\n",
       ">>> c = Counter({'a': 4, 'b': 2})           # a new counter from a mapping\n",
       ">>> c = Counter(a=4, b=2)                   # a new counter from keyword args\n",
       "\u001b[0;31mFile:\u001b[0m           /opt/miniconda3/envs/nteract/lib/python3.7/collections/__init__.py\n",
       "\u001b[0;31mType:\u001b[0m           type\n",
       "\u001b[0;31mSubclasses:\u001b[0m     \n"
      ]
     },
     "metadata": {},
     "output_type": "display_data"
    }
   ],
   "source": [
    "?Counter"
   ]
  },
  {
   "cell_type": "code",
   "execution_count": 105,
   "id": "serious-ready",
   "metadata": {},
   "outputs": [],
   "source": [
    "from collections import Counter as MyCounter"
   ]
  },
  {
   "cell_type": "code",
   "execution_count": 106,
   "id": "instructional-situation",
   "metadata": {},
   "outputs": [],
   "source": [
    "x = MyCounter()"
   ]
  },
  {
   "cell_type": "code",
   "execution_count": 22,
   "id": "continuing-escape",
   "metadata": {},
   "outputs": [],
   "source": [
    "import pandas as pd"
   ]
  },
  {
   "cell_type": "code",
   "execution_count": 23,
   "id": "attempted-turner",
   "metadata": {},
   "outputs": [
    {
     "data": {
      "text/html": [
       "<div>\n",
       "<style scoped>\n",
       "    .dataframe tbody tr th:only-of-type {\n",
       "        vertical-align: middle;\n",
       "    }\n",
       "\n",
       "    .dataframe tbody tr th {\n",
       "        vertical-align: top;\n",
       "    }\n",
       "\n",
       "    .dataframe thead th {\n",
       "        text-align: right;\n",
       "    }\n",
       "</style>\n",
       "<table border=\"1\" class=\"dataframe\">\n",
       "  <thead>\n",
       "    <tr style=\"text-align: right;\">\n",
       "      <th></th>\n",
       "      <th>Entity</th>\n",
       "      <th>Currency</th>\n",
       "      <th>AlphabeticCode</th>\n",
       "      <th>NumericCode</th>\n",
       "      <th>MinorUnit</th>\n",
       "      <th>WithdrawalDate</th>\n",
       "    </tr>\n",
       "  </thead>\n",
       "  <tbody>\n",
       "    <tr>\n",
       "      <th>0</th>\n",
       "      <td>AFGHANISTAN</td>\n",
       "      <td>Afghani</td>\n",
       "      <td>AFN</td>\n",
       "      <td>971.0</td>\n",
       "      <td>2</td>\n",
       "      <td>NaN</td>\n",
       "    </tr>\n",
       "    <tr>\n",
       "      <th>1</th>\n",
       "      <td>ÅLAND ISLANDS</td>\n",
       "      <td>Euro</td>\n",
       "      <td>EUR</td>\n",
       "      <td>978.0</td>\n",
       "      <td>2</td>\n",
       "      <td>NaN</td>\n",
       "    </tr>\n",
       "    <tr>\n",
       "      <th>2</th>\n",
       "      <td>ALBANIA</td>\n",
       "      <td>Lek</td>\n",
       "      <td>ALL</td>\n",
       "      <td>8.0</td>\n",
       "      <td>2</td>\n",
       "      <td>NaN</td>\n",
       "    </tr>\n",
       "    <tr>\n",
       "      <th>3</th>\n",
       "      <td>ALGERIA</td>\n",
       "      <td>Algerian Dinar</td>\n",
       "      <td>DZD</td>\n",
       "      <td>12.0</td>\n",
       "      <td>2</td>\n",
       "      <td>NaN</td>\n",
       "    </tr>\n",
       "    <tr>\n",
       "      <th>4</th>\n",
       "      <td>AMERICAN SAMOA</td>\n",
       "      <td>US Dollar</td>\n",
       "      <td>USD</td>\n",
       "      <td>840.0</td>\n",
       "      <td>2</td>\n",
       "      <td>NaN</td>\n",
       "    </tr>\n",
       "    <tr>\n",
       "      <th>...</th>\n",
       "      <td>...</td>\n",
       "      <td>...</td>\n",
       "      <td>...</td>\n",
       "      <td>...</td>\n",
       "      <td>...</td>\n",
       "      <td>...</td>\n",
       "    </tr>\n",
       "    <tr>\n",
       "      <th>436</th>\n",
       "      <td>ZIMBABWE</td>\n",
       "      <td>Zimbabwe Dollar (new)</td>\n",
       "      <td>ZWN</td>\n",
       "      <td>942.0</td>\n",
       "      <td>NaN</td>\n",
       "      <td>2006-09</td>\n",
       "    </tr>\n",
       "    <tr>\n",
       "      <th>437</th>\n",
       "      <td>ZIMBABWE</td>\n",
       "      <td>Zimbabwe Dollar</td>\n",
       "      <td>ZWR</td>\n",
       "      <td>935.0</td>\n",
       "      <td>NaN</td>\n",
       "      <td>2009-06</td>\n",
       "    </tr>\n",
       "    <tr>\n",
       "      <th>438</th>\n",
       "      <td>ZZ01_Gold-Franc</td>\n",
       "      <td>Gold-Franc</td>\n",
       "      <td>XFO</td>\n",
       "      <td>NaN</td>\n",
       "      <td>NaN</td>\n",
       "      <td>2006-10</td>\n",
       "    </tr>\n",
       "    <tr>\n",
       "      <th>439</th>\n",
       "      <td>ZZ02_RINET Funds Code</td>\n",
       "      <td>RINET Funds Code</td>\n",
       "      <td>XRE</td>\n",
       "      <td>NaN</td>\n",
       "      <td>NaN</td>\n",
       "      <td>1999-11</td>\n",
       "    </tr>\n",
       "    <tr>\n",
       "      <th>440</th>\n",
       "      <td>ZZ05_UIC-Franc</td>\n",
       "      <td>UIC-Franc</td>\n",
       "      <td>XFU</td>\n",
       "      <td>NaN</td>\n",
       "      <td>NaN</td>\n",
       "      <td>2013-11</td>\n",
       "    </tr>\n",
       "  </tbody>\n",
       "</table>\n",
       "<p>441 rows × 6 columns</p>\n",
       "</div>"
      ],
      "text/plain": [
       "                    Entity               Currency AlphabeticCode  NumericCode  \\\n",
       "0              AFGHANISTAN                Afghani            AFN        971.0   \n",
       "1            ÅLAND ISLANDS                   Euro            EUR        978.0   \n",
       "2                  ALBANIA                    Lek            ALL          8.0   \n",
       "3                  ALGERIA         Algerian Dinar            DZD         12.0   \n",
       "4           AMERICAN SAMOA              US Dollar            USD        840.0   \n",
       "..                     ...                    ...            ...          ...   \n",
       "436               ZIMBABWE  Zimbabwe Dollar (new)            ZWN        942.0   \n",
       "437               ZIMBABWE        Zimbabwe Dollar            ZWR        935.0   \n",
       "438        ZZ01_Gold-Franc             Gold-Franc            XFO          NaN   \n",
       "439  ZZ02_RINET Funds Code       RINET Funds Code            XRE          NaN   \n",
       "440         ZZ05_UIC-Franc              UIC-Franc            XFU          NaN   \n",
       "\n",
       "    MinorUnit WithdrawalDate  \n",
       "0           2            NaN  \n",
       "1           2            NaN  \n",
       "2           2            NaN  \n",
       "3           2            NaN  \n",
       "4           2            NaN  \n",
       "..        ...            ...  \n",
       "436       NaN        2006-09  \n",
       "437       NaN        2009-06  \n",
       "438       NaN        2006-10  \n",
       "439       NaN        1999-11  \n",
       "440       NaN        2013-11  \n",
       "\n",
       "[441 rows x 6 columns]"
      ]
     },
     "execution_count": 23,
     "metadata": {},
     "output_type": "execute_result"
    }
   ],
   "source": [
    "pd.read_csv(\"example.csv\")"
   ]
  },
  {
   "cell_type": "markdown",
   "id": "agreed-sussex",
   "metadata": {},
   "source": [
    "import name conventions:\n",
    "\n",
    "* numpy &rarr; np\n",
    "* matplotlib.pyplot &rarr; plt\n",
    "* pandas &rarr; pd\n",
    "* tensorflow &rarr; tf\n",
    "* ..."
   ]
  },
  {
   "cell_type": "markdown",
   "id": "smart-surgery",
   "metadata": {},
   "source": [
    "more on these topics:\n",
    "* https://realpython.com/python-modules-packages/\n",
    "* https://realpython.com/regex-python/\n",
    "* https://realpython.com/regex-python-part-2/"
   ]
  },
  {
   "cell_type": "markdown",
   "id": "surgical-riding",
   "metadata": {},
   "source": [
    "# Functions and Lambdas"
   ]
  },
  {
   "cell_type": "code",
   "execution_count": 203,
   "id": "sonic-bearing",
   "metadata": {},
   "outputs": [],
   "source": [
    "def name_items(n, name):\n",
    "    if n < 10:\n",
    "        return 'few'\n",
    "    else:\n",
    "        return 'many'"
   ]
  },
  {
   "cell_type": "code",
   "execution_count": null,
   "id": "recovered-blogger",
   "metadata": {},
   "outputs": [],
   "source": [
    "name_items(5, 'apple')"
   ]
  },
  {
   "cell_type": "code",
   "execution_count": 12,
   "id": "hazardous-november",
   "metadata": {},
   "outputs": [
    {
     "data": {
      "image/png": "[encoded data removed]",
      "text/plain": [
       "<Figure size 432x288 with 1 Axes>"
      ]
     },
     "metadata": {
      "needs_background": "light"
     },
     "output_type": "display_data"
    }
   ],
   "source": [
    "import matplotlib.pyplot as plt\n",
    "\n",
    "def draw_circle(hatch=None, color='green'):\n",
    "    # also see: https://matplotlib.org/stable/gallery/color/named_colors.html\n",
    "    circle = plt.Circle((0, 0), 0.75, facecolor=color, hatch=hatch)\n",
    "    plt.gca().add_patch(circle)\n",
    "    plt.axis('scaled')\n",
    "    \n",
    "draw_circle()"
   ]
  },
  {
   "cell_type": "code",
   "execution_count": 185,
   "id": "advisory-fundamental",
   "metadata": {},
   "outputs": [
    {
     "data": {
      "image/png": "[encoded data removed]",
      "text/plain": [
       "<Figure size 432x288 with 1 Axes>"
      ]
     },
     "metadata": {
      "needs_background": "light"
     },
     "output_type": "display_data"
    }
   ],
   "source": [
    "draw_circle('/')"
   ]
  },
  {
   "cell_type": "code",
   "execution_count": 187,
   "id": "finished-jones",
   "metadata": {},
   "outputs": [
    {
     "data": {
      "image/png": "[encoded data removed]",
      "text/plain": [
       "<Figure size 432x288 with 1 Axes>"
      ]
     },
     "metadata": {
      "needs_background": "light"
     },
     "output_type": "display_data"
    }
   ],
   "source": [
    "draw_circle('//', 'red')"
   ]
  },
  {
   "cell_type": "code",
   "execution_count": 190,
   "id": "pediatric-encoding",
   "metadata": {},
   "outputs": [
    {
     "data": {
      "image/png": "[encoded data removed]",
      "text/plain": [
       "<Figure size 432x288 with 1 Axes>"
      ]
     },
     "metadata": {
      "needs_background": "light"
     },
     "output_type": "display_data"
    }
   ],
   "source": [
    "draw_circle(color='#FF8020')"
   ]
  },
  {
   "cell_type": "code",
   "execution_count": 200,
   "id": "focused-emerald",
   "metadata": {},
   "outputs": [
    {
     "data": {
      "image/png": "[encoded data removed]",
      "text/plain": [
       "<Figure size 432x288 with 1 Axes>"
      ]
     },
     "metadata": {
      "needs_background": "light"
     },
     "output_type": "display_data"
    }
   ],
   "source": [
    "args = {\n",
    "    'color': 'yellow'\n",
    "}\n",
    "\n",
    "draw_circle(**args)"
   ]
  },
  {
   "cell_type": "code",
   "execution_count": 202,
   "id": "designing-forwarding",
   "metadata": {},
   "outputs": [
    {
     "data": {
      "image/png": "[encoded data removed]",
      "text/plain": [
       "<Figure size 432x288 with 1 Axes>"
      ]
     },
     "metadata": {
      "needs_background": "light"
     },
     "output_type": "display_data"
    }
   ],
   "source": [
    "args = ['..']\n",
    "\n",
    "draw_circle(*args)"
   ]
  },
  {
   "cell_type": "code",
   "execution_count": 231,
   "id": "working-faith",
   "metadata": {},
   "outputs": [
    {
     "data": {
      "text/plain": [
       "[-20, 3, 4, 7, 10]"
      ]
     },
     "execution_count": 231,
     "metadata": {},
     "output_type": "execute_result"
    }
   ],
   "source": [
    "sorted([10, 7, 3, -20, 4])"
   ]
  },
  {
   "cell_type": "code",
   "execution_count": 229,
   "id": "ordered-eating",
   "metadata": {},
   "outputs": [],
   "source": [
    "cities = [\n",
    "    ('New York City', 20870000),\n",
    "    ('Karachi', 15400000),\n",
    "    ('Buenos Aires', 16157000)\n",
    "]"
   ]
  },
  {
   "cell_type": "code",
   "execution_count": 230,
   "id": "vital-guinea",
   "metadata": {},
   "outputs": [
    {
     "data": {
      "text/plain": [
       "[('Buenos Aires', 16157000),\n",
       " ('Karachi', 15400000),\n",
       " ('New York City', 20870000)]"
      ]
     },
     "execution_count": 230,
     "metadata": {},
     "output_type": "execute_result"
    }
   ],
   "source": [
    "sorted(cities)"
   ]
  },
  {
   "cell_type": "code",
   "execution_count": 232,
   "id": "aerial-helmet",
   "metadata": {},
   "outputs": [
    {
     "data": {
      "text/plain": [
       "[('Karachi', 15400000),\n",
       " ('Buenos Aires', 16157000),\n",
       " ('New York City', 20870000)]"
      ]
     },
     "execution_count": 232,
     "metadata": {},
     "output_type": "execute_result"
    }
   ],
   "source": [
    "def get_population(x):\n",
    "    return x[1]\n",
    "\n",
    "sorted(cities, key=get_population)"
   ]
  },
  {
   "cell_type": "code",
   "execution_count": 233,
   "id": "serious-savings",
   "metadata": {},
   "outputs": [
    {
     "data": {
      "text/plain": [
       "[('Karachi', 15400000),\n",
       " ('Buenos Aires', 16157000),\n",
       " ('New York City', 20870000)]"
      ]
     },
     "execution_count": 233,
     "metadata": {},
     "output_type": "execute_result"
    }
   ],
   "source": [
    "sorted(cities, key=lambda x: x[1])"
   ]
  },
  {
   "cell_type": "markdown",
   "id": "personal-nirvana",
   "metadata": {},
   "source": [
    "more on this topic:\n",
    "* https://realpython.com/defining-your-own-python-function/\n",
    "* https://realpython.com/python-lambda/"
   ]
  },
  {
   "cell_type": "markdown",
   "id": "systematic-tampa",
   "metadata": {},
   "source": [
    "# Interactivity"
   ]
  },
  {
   "cell_type": "code",
   "execution_count": 36,
   "id": "individual-morning",
   "metadata": {},
   "outputs": [
    {
     "data": {
      "application/vnd.jupyter.widget-view+json": {
       "model_id": "c7942bac6ce54872b8427364ddac6e40",
       "version_major": 2,
       "version_minor": 0
      },
      "text/plain": [
       "interactive(children=(IntSlider(value=50, description='x', min=1), Output()), _dom_classes=('widget-interact',…"
      ]
     },
     "metadata": {},
     "output_type": "display_data"
    }
   ],
   "source": [
    "import math\n",
    "from ipywidgets import interact\n",
    "interact(lambda x: math.sqrt(x), x=(1, 100));"
   ]
  },
  {
   "cell_type": "code",
   "execution_count": 37,
   "id": "opened-dimension",
   "metadata": {},
   "outputs": [
    {
     "data": {
      "image/png": "[encoded data removed]",
      "text/plain": [
       "<Figure size 432x288 with 1 Axes>"
      ]
     },
     "metadata": {
      "needs_background": "light"
     },
     "output_type": "display_data"
    }
   ],
   "source": [
    "import matplotlib.pyplot as plt\n",
    "plt.plot([10, 15, 10, 5, 7, 20]);"
   ]
  },
  {
   "cell_type": "code",
   "execution_count": 38,
   "id": "hazardous-pattern",
   "metadata": {},
   "outputs": [],
   "source": [
    "import matplotlib.cm\n",
    "import random\n",
    "import math\n",
    "\n",
    "def plot_f(a, b):\n",
    "    plt.plot([math.sin(t * 0.1 * a) + math.cos(t * 0.1 * b) for t in range(0, 100)])"
   ]
  },
  {
   "cell_type": "code",
   "execution_count": 30,
   "id": "sharing-knight",
   "metadata": {},
   "outputs": [
    {
     "data": {
      "application/vnd.jupyter.widget-view+json": {
       "model_id": "bef58b3d463f432394ea7576c25ac328",
       "version_major": 2,
       "version_minor": 0
      },
      "text/plain": [
       "interactive(children=(FloatSlider(value=2.5, description='a', max=5.0), FloatSlider(value=2.5, description='b'…"
      ]
     },
     "metadata": {},
     "output_type": "display_data"
    }
   ],
   "source": [
    "from ipywidgets import interact\n",
    "interact(plot_f, a=(0.0, 5.0, 0.1), b=(0.0, 5.0, 0.1));"
   ]
  },
  {
   "cell_type": "markdown",
   "id": "grave-disclosure",
   "metadata": {},
   "source": [
    "more on this topic: https://ipywidgets.readthedocs.io/en/latest/examples/Using%20Interact.html"
   ]
  },
  {
   "cell_type": "markdown",
   "id": "portuguese-grain",
   "metadata": {},
   "source": [
    "# Classes"
   ]
  },
  {
   "cell_type": "code",
   "execution_count": 225,
   "id": "entitled-simple",
   "metadata": {},
   "outputs": [
    {
     "data": {
      "text/plain": [
       "'a car with 4 wheels and 2 doors'"
      ]
     },
     "execution_count": 225,
     "metadata": {},
     "output_type": "execute_result"
    }
   ],
   "source": [
    "class Vehicle:\n",
    "    def number_of_wheels(self):\n",
    "        raise NotImplementedError()\n",
    "\n",
    "        \n",
    "class Car(Vehicle):\n",
    "    def __init__(self, doors=4):\n",
    "        self._doors = doors\n",
    "\n",
    "    def number_of_wheels(self):\n",
    "        return 4\n",
    " \n",
    "    def number_of_doors(self):\n",
    "        return self._doors\n",
    "\n",
    "\n",
    "my_car = Car(2)\n",
    "f'a car with {my_car.number_of_wheels()} wheels and {my_car.number_of_doors()} doors'"
   ]
  },
  {
   "cell_type": "markdown",
   "id": "institutional-theater",
   "metadata": {},
   "source": [
    "more on this topic: https://realpython.com/python3-object-oriented-programming/"
   ]
  },
  {
   "cell_type": "markdown",
   "id": "worse-column",
   "metadata": {},
   "source": [
    "# Numpy, Tensorflow"
   ]
  },
  {
   "cell_type": "code",
   "execution_count": 5,
   "id": "embedded-lemon",
   "metadata": {},
   "outputs": [],
   "source": [
    "import numpy as np"
   ]
  },
  {
   "cell_type": "code",
   "execution_count": 6,
   "id": "rubber-stanley",
   "metadata": {},
   "outputs": [
    {
     "data": {
      "text/plain": [
       "array([1, 2, 3, 4])"
      ]
     },
     "execution_count": 6,
     "metadata": {},
     "output_type": "execute_result"
    }
   ],
   "source": [
    "x = np.array([1, 2, 3, 4])\n",
    "x"
   ]
  },
  {
   "cell_type": "code",
   "execution_count": 7,
   "id": "rolled-istanbul",
   "metadata": {},
   "outputs": [
    {
     "data": {
      "text/plain": [
       "array([[[0.02602794, 0.35301796, 0.2766494 , 0.79390885],\n",
       "        [0.25934136, 0.88756167, 0.74794007, 0.04301107]],\n",
       "\n",
       "       [[0.2427287 , 0.65559994, 0.18124693, 0.42844279],\n",
       "        [0.24387321, 0.78512089, 0.50368093, 0.9607215 ]],\n",
       "\n",
       "       [[0.77999966, 0.29633627, 0.55234431, 0.83077194],\n",
       "        [0.7461072 , 0.53708343, 0.27209902, 0.18406189]]])"
      ]
     },
     "execution_count": 7,
     "metadata": {},
     "output_type": "execute_result"
    }
   ],
   "source": [
    "x = np.random.random((3, 2, 4))\n",
    "x"
   ]
  },
  {
   "cell_type": "code",
   "execution_count": 8,
   "id": "dominican-cleaning",
   "metadata": {},
   "outputs": [
    {
     "data": {
      "text/plain": [
       "(3, 2, 4)"
      ]
     },
     "execution_count": 8,
     "metadata": {},
     "output_type": "execute_result"
    }
   ],
   "source": [
    "x.shape"
   ]
  },
  {
   "cell_type": "code",
   "execution_count": 9,
   "id": "located-latest",
   "metadata": {},
   "outputs": [
    {
     "data": {
      "text/plain": [
       "array([[0.2766494 , 0.79390885],\n",
       "       [0.18124693, 0.42844279],\n",
       "       [0.55234431, 0.83077194]])"
      ]
     },
     "execution_count": 9,
     "metadata": {},
     "output_type": "execute_result"
    }
   ],
   "source": [
    "x[:, 0, 2:4]"
   ]
  },
  {
   "cell_type": "code",
   "execution_count": 10,
   "id": "refined-effort",
   "metadata": {},
   "outputs": [
    {
     "data": {
      "text/plain": [
       "array([[[3.05205588, 3.70603592, 3.55329879, 4.5878177 ],\n",
       "        [3.51868273, 4.77512334, 4.49588014, 3.08602213]],\n",
       "\n",
       "       [[3.4854574 , 4.31119988, 3.36249387, 3.85688557],\n",
       "        [3.48774642, 4.57024178, 4.00736186, 4.921443  ]],\n",
       "\n",
       "       [[4.55999932, 3.59267255, 4.10468862, 4.66154388],\n",
       "        [4.4922144 , 4.07416686, 3.54419804, 3.36812379]]])"
      ]
     },
     "execution_count": 10,
     "metadata": {},
     "output_type": "execute_result"
    }
   ],
   "source": [
    "(x + 1.5) * 2"
   ]
  },
  {
   "cell_type": "code",
   "execution_count": 11,
   "id": "subsequent-valley",
   "metadata": {},
   "outputs": [
    {
     "data": {
      "text/plain": [
       "dtype('float64')"
      ]
     },
     "execution_count": 11,
     "metadata": {},
     "output_type": "execute_result"
    }
   ],
   "source": [
    "x.dtype"
   ]
  },
  {
   "cell_type": "code",
   "execution_count": 12,
   "id": "cordless-occasion",
   "metadata": {},
   "outputs": [
    {
     "data": {
      "text/plain": [
       "<tf.Tensor: id=0, shape=(3, 2, 4), dtype=float32, numpy=\n",
       "array([[[0.02602794, 0.35301796, 0.2766494 , 0.79390883],\n",
       "        [0.25934136, 0.8875617 , 0.74794006, 0.04301107]],\n",
       "\n",
       "       [[0.2427287 , 0.65559995, 0.18124694, 0.42844278],\n",
       "        [0.24387321, 0.7851209 , 0.50368094, 0.9607215 ]],\n",
       "\n",
       "       [[0.7799997 , 0.29633626, 0.5523443 , 0.8307719 ],\n",
       "        [0.7461072 , 0.53708345, 0.27209902, 0.1840619 ]]], dtype=float32)>"
      ]
     },
     "execution_count": 12,
     "metadata": {},
     "output_type": "execute_result"
    }
   ],
   "source": [
    "import tensorflow as tf\n",
    "tf.convert_to_tensor(x, np.float32)"
   ]
  },
  {
   "cell_type": "markdown",
   "id": "objective-albany",
   "metadata": {},
   "source": [
    "more on this topic: https://realpython.com/numpy-tutorial/"
   ]
  },
  {
   "cell_type": "markdown",
   "id": "separated-yellow",
   "metadata": {},
   "source": [
    "# The End"
   ]
  },
  {
   "cell_type": "code",
   "execution_count": 199,
   "id": "endangered-advisory",
   "metadata": {},
   "outputs": [
    {
     "data": {
      "image/png": "[encoded data removed]",
      "text/plain": [
       "<Figure size 288x288 with 1 Axes>"
      ]
     },
     "metadata": {
      "needs_background": "light"
     },
     "output_type": "display_data"
    }
   ],
   "source": [
    "import matplotlib.pyplot as plt\n",
    "import numpy as np\n",
    "\n",
    "def dot2(x):\n",
    "    return np.sum(x * x, axis=-1)\n",
    "\n",
    "def heart_sdf(p):\n",
    "    # see https://www.iquilezles.org/www/articles/distfunctions2d/distfunctions2d.htm\n",
    "    # see https://www.shadertoy.com/view/3tyBzV\n",
    "\n",
    "    p[:, 0] = np.abs(p[:, 0])\n",
    "    c3 = dot2(p - 0.5 * np.clip(p[:, 0] + p[:, 1], 0, None)[:, np.newaxis])\n",
    "    c1 = np.sqrt(dot2(p - np.array([0.25, 0.75]))) - np.sqrt(2.0) / 4.0\n",
    "    c2 = np.sqrt(np.minimum(dot2(p - np.array([0, 1])), c3)) * np.sign(p[:, 0] - p[:, 1])\n",
    "    return np.select([p[:, 0] + p[:, 1] > 1, True], [c1, c2])\n",
    "\n",
    "def plot_heart():\n",
    "    dxy = 1 / 100\n",
    "    grid = np.mgrid[-1:1:dxy, -0.5:1.5:dxy]\n",
    "    p = np.vstack(np.dstack(grid))\n",
    "    d = heart_sdf(p).reshape(grid.shape[-2], -1).T\n",
    "    plt.figure(figsize=(4, 4))\n",
    "    plt.contourf(d, cmap='RdYlBu', levels=10, vmin=-0.1, vmax=0.5)\n",
    "\n",
    "    \n",
    "plot_heart()"
   ]
  }
 ],
 "metadata": {
  "kernelspec": {
   "display_name": "Python 3",
   "language": "python",
   "name": "python3"
  },
  "language_info": {
   "codemirror_mode": {
    "name": "ipython",
    "version": 3
   },
   "file_extension": ".py",
   "mimetype": "text/x-python",
   "name": "python",
   "nbconvert_exporter": "python",
   "pygments_lexer": "ipython3",
   "version": "3.7.6"
  }
 },
 "nbformat": 4,
 "nbformat_minor": 5
}
